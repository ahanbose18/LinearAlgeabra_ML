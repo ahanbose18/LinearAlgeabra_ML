{
  "nbformat": 4,
  "nbformat_minor": 0,
  "metadata": {
    "colab": {
      "name": "Movie Recommendation System.ipynb",
      "provenance": [],
      "collapsed_sections": [],
      "toc_visible": true
    },
    "kernelspec": {
      "name": "python3",
      "display_name": "Python 3"
    }
  },
  "cells": [
    {
      "cell_type": "code",
      "metadata": {
        "id": "GYTOfUfpCzpP",
        "colab_type": "code",
        "outputId": "0c76101f-4e34-4d16-f1f8-bdfb598fc3a1",
        "colab": {
          "base_uri": "https://localhost:8080/",
          "height": 204
        }
      },
      "source": [
        "import pandas as pd\n",
        "dataset=pd.read_csv('ratings.csv')\n",
        "dataset=dataset.iloc[:,:-1]\n",
        "dataset=pd.DataFrame(dataset)\n",
        "dataset.head(5)"
      ],
      "execution_count": 0,
      "outputs": [
        {
          "output_type": "execute_result",
          "data": {
            "text/html": [
              "<div>\n",
              "<style scoped>\n",
              "    .dataframe tbody tr th:only-of-type {\n",
              "        vertical-align: middle;\n",
              "    }\n",
              "\n",
              "    .dataframe tbody tr th {\n",
              "        vertical-align: top;\n",
              "    }\n",
              "\n",
              "    .dataframe thead th {\n",
              "        text-align: right;\n",
              "    }\n",
              "</style>\n",
              "<table border=\"1\" class=\"dataframe\">\n",
              "  <thead>\n",
              "    <tr style=\"text-align: right;\">\n",
              "      <th></th>\n",
              "      <th>userId</th>\n",
              "      <th>movieId</th>\n",
              "      <th>rating</th>\n",
              "    </tr>\n",
              "  </thead>\n",
              "  <tbody>\n",
              "    <tr>\n",
              "      <th>0</th>\n",
              "      <td>1</td>\n",
              "      <td>1</td>\n",
              "      <td>4.0</td>\n",
              "    </tr>\n",
              "    <tr>\n",
              "      <th>1</th>\n",
              "      <td>1</td>\n",
              "      <td>3</td>\n",
              "      <td>4.0</td>\n",
              "    </tr>\n",
              "    <tr>\n",
              "      <th>2</th>\n",
              "      <td>1</td>\n",
              "      <td>6</td>\n",
              "      <td>4.0</td>\n",
              "    </tr>\n",
              "    <tr>\n",
              "      <th>3</th>\n",
              "      <td>1</td>\n",
              "      <td>47</td>\n",
              "      <td>5.0</td>\n",
              "    </tr>\n",
              "    <tr>\n",
              "      <th>4</th>\n",
              "      <td>1</td>\n",
              "      <td>50</td>\n",
              "      <td>5.0</td>\n",
              "    </tr>\n",
              "  </tbody>\n",
              "</table>\n",
              "</div>"
            ],
            "text/plain": [
              "   userId  movieId  rating\n",
              "0       1        1     4.0\n",
              "1       1        3     4.0\n",
              "2       1        6     4.0\n",
              "3       1       47     5.0\n",
              "4       1       50     5.0"
            ]
          },
          "metadata": {
            "tags": []
          },
          "execution_count": 9
        }
      ]
    },
    {
      "cell_type": "code",
      "metadata": {
        "id": "50ZUhI3xHW3t",
        "colab_type": "code",
        "outputId": "fd7b3a34-acea-469c-d247-ed65109093bd",
        "colab": {
          "base_uri": "https://localhost:8080/",
          "height": 309
        }
      },
      "source": [
        "!pip install surprise"
      ],
      "execution_count": 0,
      "outputs": [
        {
          "output_type": "stream",
          "text": [
            "Collecting surprise\n",
            "  Downloading https://files.pythonhosted.org/packages/61/de/e5cba8682201fcf9c3719a6fdda95693468ed061945493dea2dd37c5618b/surprise-0.1-py2.py3-none-any.whl\n",
            "Collecting scikit-surprise\n",
            "\u001b[?25l  Downloading https://files.pythonhosted.org/packages/f5/da/b5700d96495fb4f092be497f02492768a3d96a3f4fa2ae7dea46d4081cfa/scikit-surprise-1.1.0.tar.gz (6.4MB)\n",
            "\u001b[K     |████████████████████████████████| 6.5MB 2.8MB/s \n",
            "\u001b[?25hRequirement already satisfied: joblib>=0.11 in /usr/local/lib/python3.6/dist-packages (from scikit-surprise->surprise) (0.14.1)\n",
            "Requirement already satisfied: numpy>=1.11.2 in /usr/local/lib/python3.6/dist-packages (from scikit-surprise->surprise) (1.18.4)\n",
            "Requirement already satisfied: scipy>=1.0.0 in /usr/local/lib/python3.6/dist-packages (from scikit-surprise->surprise) (1.4.1)\n",
            "Requirement already satisfied: six>=1.10.0 in /usr/local/lib/python3.6/dist-packages (from scikit-surprise->surprise) (1.12.0)\n",
            "Building wheels for collected packages: scikit-surprise\n",
            "  Building wheel for scikit-surprise (setup.py) ... \u001b[?25l\u001b[?25hdone\n",
            "  Created wheel for scikit-surprise: filename=scikit_surprise-1.1.0-cp36-cp36m-linux_x86_64.whl size=1673672 sha256=6eeb386aa80aa4771e179fa2ece24cdc7ad08da6ac33b44258f8c1f507f89293\n",
            "  Stored in directory: /root/.cache/pip/wheels/cc/fa/8c/16c93fccce688ae1bde7d979ff102f7bee980d9cfeb8641bcf\n",
            "Successfully built scikit-surprise\n",
            "Installing collected packages: scikit-surprise, surprise\n",
            "Successfully installed scikit-surprise-1.1.0 surprise-0.1\n"
          ],
          "name": "stdout"
        }
      ]
    },
    {
      "cell_type": "code",
      "metadata": {
        "id": "CyAyJTyWKDB2",
        "colab_type": "code",
        "outputId": "e856e437-1c7b-4678-b59e-d16e3896bfd2",
        "colab": {
          "base_uri": "https://localhost:8080/",
          "height": 34
        }
      },
      "source": [
        "from surprise import SVD\n",
        "from surprise import Dataset,Reader\n",
        "from surprise.model_selection import cross_validate,train_test_split\n",
        "reader=Reader(rating_scale=(1,5))\n",
        "data=Dataset.load_from_df(dataset,reader)\n",
        "trainset,testset=train_test_split(data,test_size=.25)\n",
        "model=SVD(n_factors=100)\n",
        "model.fit(trainset)"
      ],
      "execution_count": 0,
      "outputs": [
        {
          "output_type": "execute_result",
          "data": {
            "text/plain": [
              "<surprise.prediction_algorithms.matrix_factorization.SVD at 0x7f7c6f58d208>"
            ]
          },
          "metadata": {
            "tags": []
          },
          "execution_count": 24
        }
      ]
    },
    {
      "cell_type": "code",
      "metadata": {
        "id": "T757ET9gMN08",
        "colab_type": "code",
        "outputId": "7f1dda4b-7f75-46f9-c3a4-9f77de5d5d1c",
        "colab": {
          "base_uri": "https://localhost:8080/",
          "height": 34
        }
      },
      "source": [
        "model.qi.shape"
      ],
      "execution_count": 0,
      "outputs": [
        {
          "output_type": "execute_result",
          "data": {
            "text/plain": [
              "(8788, 100)"
            ]
          },
          "metadata": {
            "tags": []
          },
          "execution_count": 25
        }
      ]
    },
    {
      "cell_type": "code",
      "metadata": {
        "id": "5bWFzL1PNu_j",
        "colab_type": "code",
        "outputId": "30f39f39-95b8-41d0-dc1c-4bb92c751561",
        "colab": {
          "base_uri": "https://localhost:8080/",
          "height": 357
        }
      },
      "source": [
        "item_to_row_idx= model.trainset._raw2inner_id_items\n",
        "#display(item_to_row_idx)\n",
        "c=item_to_row_idx[1552]\n",
        "model.qi[c]\n"
      ],
      "execution_count": 0,
      "outputs": [
        {
          "output_type": "execute_result",
          "data": {
            "text/plain": [
              "array([ 0.0022129 ,  0.08271561, -0.06815328,  0.12712659, -0.08989964,\n",
              "        0.05640466, -0.17862628, -0.01001223, -0.14212821, -0.00879683,\n",
              "        0.07169262, -0.13799546, -0.06380152,  0.18857854, -0.0721271 ,\n",
              "       -0.106969  ,  0.11624392,  0.0230117 ,  0.00939117, -0.1086038 ,\n",
              "       -0.21882338, -0.05337034, -0.33884264,  0.11933992, -0.01804812,\n",
              "        0.0859414 , -0.00829254,  0.06483962,  0.03870295,  0.04764861,\n",
              "        0.07517781, -0.16574799, -0.04936378,  0.08601636, -0.05055675,\n",
              "       -0.20748859, -0.08606056,  0.13935071, -0.07125216,  0.11942995,\n",
              "        0.04527027,  0.07802816,  0.02138837, -0.09358926, -0.26370067,\n",
              "        0.03390645, -0.01127435, -0.09014079,  0.02900914, -0.08118335,\n",
              "       -0.10750363, -0.02917784,  0.10949015,  0.00999705,  0.04639489,\n",
              "       -0.20058579, -0.12740117,  0.03338015, -0.09280801,  0.00643403,\n",
              "       -0.18986363, -0.05643874, -0.17120655, -0.16757903,  0.09833919,\n",
              "       -0.0272415 , -0.08090503,  0.14441909, -0.19299371, -0.04700055,\n",
              "        0.14935473,  0.04067544,  0.00835019, -0.04052187, -0.06290081,\n",
              "        0.20392793,  0.0219    ,  0.04288654, -0.01493816, -0.21001037,\n",
              "       -0.11417999,  0.15573746, -0.19039662,  0.16914619,  0.01083276,\n",
              "        0.15789607,  0.08429585, -0.09921323,  0.17097131,  0.05913539,\n",
              "       -0.00905493,  0.17644533, -0.06693681, -0.06075938, -0.05033945,\n",
              "       -0.18779733, -0.1628143 , -0.05024805,  0.13581477,  0.15696121])"
            ]
          },
          "metadata": {
            "tags": []
          },
          "execution_count": 35
        }
      ]
    },
    {
      "cell_type": "code",
      "metadata": {
        "id": "Avw_NN6aURv0",
        "colab_type": "code",
        "colab": {}
      },
      "source": [
        "movie_idx_1552=model.trainset._raw2inner_id_items[1552]\n",
        "movie_idx_1573=model.trainset._raw2inner_id_items[1573]\n",
        "movie_idx_1617=model.trainset._raw2inner_id_items[1617]\n",
        "vector_1552=model.qi[movie_idx_1552]\n",
        "vector_1573=model.qi[movie_idx_1573]\n",
        "vector_1617=model.qi[movie_idx_1617]\n",
        "\n",
        "\n"
      ],
      "execution_count": 0,
      "outputs": []
    },
    {
      "cell_type": "code",
      "metadata": {
        "id": "U-eaS8v3VxXV",
        "colab_type": "code",
        "outputId": "61a6b128-1b5d-44d3-baa0-be6135198064",
        "colab": {
          "base_uri": "https://localhost:8080/",
          "height": 51
        }
      },
      "source": [
        "from scipy import spatial\n",
        "cosine_similarity = 1 - scipy.spatial.distance.cosine(vector_1552, vector_1573)\n",
        "print(cosine_similarity)\n",
        "cosine_similarity = 1 - scipy.spatial.distance.cosine(vector_1552, vector_1617)\n",
        "print(cosine_similarity)"
      ],
      "execution_count": 0,
      "outputs": [
        {
          "output_type": "stream",
          "text": [
            "-0.005848215097677301\n",
            "0.006020116408988141\n"
          ],
          "name": "stdout"
        }
      ]
    },
    {
      "cell_type": "code",
      "metadata": {
        "id": "G3ygUJl2Vxmf",
        "colab_type": "code",
        "colab": {}
      },
      "source": [
        ""
      ],
      "execution_count": 0,
      "outputs": []
    }
  ]
}